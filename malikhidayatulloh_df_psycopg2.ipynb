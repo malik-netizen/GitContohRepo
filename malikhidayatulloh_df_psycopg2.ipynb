{
 "cells": [
  {
   "cell_type": "code",
   "execution_count": 1,
   "metadata": {},
   "outputs": [],
   "source": [
    "import psycopg2\n",
    "import pandas as pd"
   ]
  },
  {
   "cell_type": "markdown",
   "metadata": {},
   "source": [
    "# Read Dataset"
   ]
  },
  {
   "cell_type": "code",
   "execution_count": 24,
   "metadata": {},
   "outputs": [],
   "source": [
    "# campaign = pd.read_excel('campaign.xlsx')\n",
    "# campaign_details = pd.read_excel('campaign_details.xlsx')\n",
    "# delivorder = pd.read_csv('delivorder.csv').notnull().sample(n = 1000)\n",
    "delivorder_item = pd.read_csv('delivorder_item.csv', nrows=1000)\n",
    "# distance = pd.read_excel('distance.xlsx')\n",
    "geographic = pd.read_excel('geographic.xlsx')\n",
    "# plants = pd.read_excel('plants.xlsx')\n",
    "produk = pd.read_excel('produk.xlsx')\n",
    "# sales_order = pd.read_excel('sales_order2.xlsx')\n",
    "# search_keyword = pd.read_excel('search_keyword.xlsx')\n",
    "# user_location = pd.read_excel('user_location.xlsx')"
   ]
  },
  {
   "cell_type": "code",
   "execution_count": 25,
   "metadata": {},
   "outputs": [
    {
     "data": {
      "text/plain": [
       "do_id                            0\n",
       "do_tgl                           0\n",
       "do_org_id                        0\n",
       "do_so_id                         0\n",
       "do_tm_id                         0\n",
       "do_nomor                         0\n",
       "do_driver_id                     0\n",
       "do_status_verifikasi             0\n",
       "do_is_invoice                    0\n",
       "do_is_tolak                      0\n",
       "do_tolak_ket                     0\n",
       "do_tgl_tolak                     0\n",
       "do_jam_berangkat                 0\n",
       "do_ket                           0\n",
       "do_bag_pengiriman_id             0\n",
       "do_createtime                    0\n",
       "do_tgl_terima                    0\n",
       "do_is_jurnal                     0\n",
       "do_jam_terima                    0\n",
       "do_jam_datang_diproyek           0\n",
       "do_jam_bongkar                   0\n",
       "do_tgl_datang_diproyek           0\n",
       "do_tgl_bongkar                   0\n",
       "do_is_invoice_plant_utama        0\n",
       "do_stat_id                       0\n",
       "do_tgl_pulang                    0\n",
       "do_jam_pulang                    0\n",
       "do_jarak_km                      0\n",
       "do_ba_penolakan                  0\n",
       "do_pembuat_penolakan             0\n",
       "do_penyebab_penolakan            0\n",
       "do_penyetuju_penolakan           0\n",
       "do_tld_id                        0\n",
       "do_hari_ba_penolakan             0\n",
       "do_tgl_ba_penolakan              0\n",
       "do_barcode                       0\n",
       "do_alasan_berkas_belum_terima    0\n",
       "do_is_berkas_diterima            0\n",
       "do_tgl_berkas_diterima           0\n",
       "do_tempat_cor                    0\n",
       "do_lokasi_terima                 0\n",
       "dtype: int64"
      ]
     },
     "execution_count": 25,
     "metadata": {},
     "output_type": "execute_result"
    }
   ],
   "source": [
    "delivorder.isnull().sum()"
   ]
  },
  {
   "cell_type": "code",
   "execution_count": null,
   "metadata": {},
   "outputs": [],
   "source": []
  },
  {
   "cell_type": "code",
   "execution_count": 21,
   "metadata": {},
   "outputs": [
    {
     "name": "stdout",
     "output_type": "stream",
     "text": [
      "campaign_malik (14, 13)\n",
      "campaign_details_malik (14, 29)\n",
      "delivorder_malik (164274, 41)\n",
      "delivorder_item_malik (7700000, 6)\n",
      "distance_malik (16, 11)\n",
      "geographic_malik (895, 18)\n",
      "plants_malik (25, 6)\n",
      "produk_malik (65, 5)\n",
      "sales_order_malik (24966, 9)\n",
      "search_keyword_malik (328, 19)\n",
      "user_location_malik (439, 18)\n"
     ]
    }
   ],
   "source": [
    "list_table = [[campaign, 'campaign_malik'], \n",
    "              [campaign_details, 'campaign_details_malik'], \n",
    "              [delivorder, 'delivorder_malik'], \n",
    "              [delivorder_item, 'delivorder_item_malik'], \n",
    "              [distance, 'distance_malik'],\n",
    "              [geographic, 'geographic_malik'], \n",
    "              [plants, 'plants_malik'], \n",
    "              [produk, 'produk_malik'], \n",
    "              [sales_order, 'sales_order_malik'], \n",
    "              [search_keyword, 'search_keyword_malik'], \n",
    "              [user_location, 'user_location_malik']]\n",
    "for table_in_python, table_in_sql in list_table:\n",
    "    #print(table_in_sql, table_in_python.shape)"
   ]
  },
  {
   "cell_type": "markdown",
   "metadata": {},
   "source": [
    "# Check the unique values in the table\n",
    "Jika True maka nilai tersebut unik di dalam tabel"
   ]
  },
  {
   "cell_type": "markdown",
   "metadata": {},
   "source": [
    "##### Tabel campaign"
   ]
  },
  {
   "cell_type": "code",
   "execution_count": 19,
   "metadata": {},
   "outputs": [
    {
     "data": {
      "text/plain": [
       "campaign              True\n",
       "state                False\n",
       "type                 False\n",
       "currency             False\n",
       "clicks               False\n",
       "impressions          False\n",
       "ctr                  False\n",
       "avg_cpc              False\n",
       "cost                 False\n",
       "conversions          False\n",
       "view_through_conv    False\n",
       "cost_per_conv        False\n",
       "conv_rate            False\n",
       "dtype: bool"
      ]
     },
     "execution_count": 19,
     "metadata": {},
     "output_type": "execute_result"
    }
   ],
   "source": [
    "campaign.nunique() == len(campaign)"
   ]
  },
  {
   "cell_type": "markdown",
   "metadata": {},
   "source": [
    "##### Tabel campaign_details"
   ]
  },
  {
   "cell_type": "code",
   "execution_count": 20,
   "metadata": {},
   "outputs": [
    {
     "data": {
      "text/plain": [
       "campaign                  True\n",
       "state                    False\n",
       "type                     False\n",
       "subtype                  False\n",
       "labels                   False\n",
       "bid_strategy             False\n",
       "bid_strategy_type        False\n",
       "sitelinks_active         False\n",
       "sitelinks_disapproved    False\n",
       "phone_active             False\n",
       "phone_disapproved        False\n",
       "apps_active              False\n",
       "apps_disapproved         False\n",
       "apps_level               False\n",
       "desktop_bid_adj          False\n",
       "mobile_bid_adj           False\n",
       "tablet_bid_adj           False\n",
       "currency                 False\n",
       "clicks                   False\n",
       "impressions              False\n",
       "ctr                      False\n",
       "avg_cpc                  False\n",
       "cost                     False\n",
       "impr_abs_top             False\n",
       "impr_top                 False\n",
       "conversions              False\n",
       "view_through_conv        False\n",
       "cost_per_conv            False\n",
       "conv_rate                False\n",
       "dtype: bool"
      ]
     },
     "execution_count": 20,
     "metadata": {},
     "output_type": "execute_result"
    }
   ],
   "source": [
    "campaign_details.nunique() == len(campaign_details)"
   ]
  },
  {
   "cell_type": "markdown",
   "metadata": {},
   "source": [
    "##### Tabel  distance"
   ]
  },
  {
   "cell_type": "code",
   "execution_count": 21,
   "metadata": {},
   "outputs": [
    {
     "data": {
      "text/plain": [
       "from_location         True\n",
       "currency             False\n",
       "clicks                True\n",
       "impressions           True\n",
       "ctr                  False\n",
       "avg_cpc               True\n",
       "cost                  True\n",
       "conversions           True\n",
       "view_through_conv    False\n",
       "cost_per_conv         True\n",
       "conv_rate            False\n",
       "dtype: bool"
      ]
     },
     "execution_count": 21,
     "metadata": {},
     "output_type": "execute_result"
    }
   ],
   "source": [
    "distance.nunique() == len(distance)"
   ]
  },
  {
   "cell_type": "markdown",
   "metadata": {},
   "source": [
    "##### Tabel geographic"
   ]
  },
  {
   "cell_type": "code",
   "execution_count": 22,
   "metadata": {},
   "outputs": [
    {
     "data": {
      "text/plain": [
       "country_territory         False\n",
       "region                    False\n",
       "metro_area                False\n",
       "city                      False\n",
       "most_targeted_location    False\n",
       "location_type             False\n",
       "currency                  False\n",
       "clicks                    False\n",
       "impressions               False\n",
       "ctr                       False\n",
       "avg_cpc                   False\n",
       "cost                      False\n",
       "impr_abs_top              False\n",
       "impr_top                  False\n",
       "conversions               False\n",
       "view_through_conv         False\n",
       "cost_per_conv             False\n",
       "conv_rate                 False\n",
       "dtype: bool"
      ]
     },
     "execution_count": 22,
     "metadata": {},
     "output_type": "execute_result"
    }
   ],
   "source": [
    "geographic.nunique() == len(geographic)"
   ]
  },
  {
   "cell_type": "markdown",
   "metadata": {},
   "source": [
    "##### Tabel plants"
   ]
  },
  {
   "cell_type": "code",
   "execution_count": 31,
   "metadata": {},
   "outputs": [
    {
     "data": {
      "text/plain": [
       "plant                  True\n",
       "batching_tipe         False\n",
       "batching_jml          False\n",
       "batching_kapasitas    False\n",
       "status                False\n",
       "jml_truk              False\n",
       "dtype: bool"
      ]
     },
     "execution_count": 31,
     "metadata": {},
     "output_type": "execute_result"
    }
   ],
   "source": [
    "plants.nunique() == len(plants)"
   ]
  },
  {
   "cell_type": "markdown",
   "metadata": {},
   "source": [
    "##### Tabel produk"
   ]
  },
  {
   "cell_type": "code",
   "execution_count": 32,
   "metadata": {},
   "outputs": [
    {
     "data": {
      "text/plain": [
       "no                True\n",
       "mutu             False\n",
       "spesifikasi      False\n",
       "slump            False\n",
       "spek_tambahan    False\n",
       "dtype: bool"
      ]
     },
     "execution_count": 32,
     "metadata": {},
     "output_type": "execute_result"
    }
   ],
   "source": [
    "produk.nunique() == len(produk)"
   ]
  },
  {
   "cell_type": "markdown",
   "metadata": {},
   "source": [
    "##### Tabel sales_order"
   ]
  },
  {
   "cell_type": "code",
   "execution_count": 33,
   "metadata": {},
   "outputs": [
    {
     "data": {
      "text/plain": [
       "tanggal_pemesanan       False\n",
       "nomor_kontrak_retail     True\n",
       "pelanggan               False\n",
       "jenis                   False\n",
       "nama_proyek             False\n",
       "product                 False\n",
       "area                    False\n",
       "nilai                   False\n",
       "status                  False\n",
       "dtype: bool"
      ]
     },
     "execution_count": 33,
     "metadata": {},
     "output_type": "execute_result"
    }
   ],
   "source": [
    "sales_order.nunique() == len(sales_order)"
   ]
  },
  {
   "cell_type": "markdown",
   "metadata": {},
   "source": [
    "##### Tabel search_keyword"
   ]
  },
  {
   "cell_type": "code",
   "execution_count": 34,
   "metadata": {},
   "outputs": [
    {
     "data": {
      "text/plain": [
       "keyword               False\n",
       "keyword_status        False\n",
       "keyword_match_type    False\n",
       "campaign              False\n",
       "ad_group              False\n",
       "keyword_max_cpc       False\n",
       "currency              False\n",
       "clicks                False\n",
       "impressions           False\n",
       "ctr                   False\n",
       "avg_cpc               False\n",
       "cost                  False\n",
       "impr_abs_top          False\n",
       "impr_top              False\n",
       "conversions           False\n",
       "view_through_conv     False\n",
       "cost_conv             False\n",
       "conv_rate             False\n",
       "avg_cpm               False\n",
       "dtype: bool"
      ]
     },
     "execution_count": 34,
     "metadata": {},
     "output_type": "execute_result"
    }
   ],
   "source": [
    "search_keyword.nunique() == len(search_keyword)"
   ]
  },
  {
   "cell_type": "markdown",
   "metadata": {},
   "source": [
    "##### tabel user_location"
   ]
  },
  {
   "cell_type": "code",
   "execution_count": 36,
   "metadata": {
    "scrolled": false
   },
   "outputs": [
    {
     "data": {
      "text/plain": [
       "country                   False\n",
       "region                    False\n",
       "metro_area                False\n",
       "city                      False\n",
       "most_targeted_location    False\n",
       "location_type             False\n",
       "currency                  False\n",
       "clicks                    False\n",
       "impressions               False\n",
       "ctr                       False\n",
       "avg_cpc                   False\n",
       "cost                      False\n",
       "impr_abs_top              False\n",
       "impr_top                  False\n",
       "conversions               False\n",
       "view_through_conv         False\n",
       "cost_conv                 False\n",
       "conv_rate                 False\n",
       "dtype: bool"
      ]
     },
     "execution_count": 36,
     "metadata": {},
     "output_type": "execute_result"
    }
   ],
   "source": [
    "user_location.nunique() == len(user_location)"
   ]
  },
  {
   "cell_type": "markdown",
   "metadata": {},
   "source": [
    "##### Tabel delivorder"
   ]
  },
  {
   "cell_type": "code",
   "execution_count": 38,
   "metadata": {},
   "outputs": [
    {
     "data": {
      "text/plain": [
       "do_id                             True\n",
       "do_tgl                           False\n",
       "do_org_id                        False\n",
       "do_so_id                         False\n",
       "do_tm_id                         False\n",
       "do_nomor                          True\n",
       "do_driver_id                     False\n",
       "do_status_verifikasi             False\n",
       "do_is_invoice                    False\n",
       "do_is_tolak                      False\n",
       "do_tolak_ket                     False\n",
       "do_tgl_tolak                     False\n",
       "do_jam_berangkat                 False\n",
       "do_ket                           False\n",
       "do_bag_pengiriman_id             False\n",
       "do_createtime                    False\n",
       "do_tgl_terima                    False\n",
       "do_is_jurnal                     False\n",
       "do_jam_terima                    False\n",
       "do_jam_datang_diproyek           False\n",
       "do_jam_bongkar                   False\n",
       "do_tgl_datang_diproyek           False\n",
       "do_tgl_bongkar                   False\n",
       "do_is_invoice_plant_utama        False\n",
       "do_stat_id                       False\n",
       "do_tgl_pulang                    False\n",
       "do_jam_pulang                    False\n",
       "do_jarak_km                      False\n",
       "do_ba_penolakan                  False\n",
       "do_pembuat_penolakan             False\n",
       "do_penyebab_penolakan            False\n",
       "do_penyetuju_penolakan           False\n",
       "do_tld_id                        False\n",
       "do_hari_ba_penolakan             False\n",
       "do_tgl_ba_penolakan              False\n",
       "do_barcode                       False\n",
       "do_alasan_berkas_belum_terima    False\n",
       "do_is_berkas_diterima            False\n",
       "do_tgl_berkas_diterima           False\n",
       "do_tempat_cor                    False\n",
       "do_lokasi_terima                 False\n",
       "dtype: bool"
      ]
     },
     "execution_count": 38,
     "metadata": {},
     "output_type": "execute_result"
    }
   ],
   "source": [
    "delivorder.nunique() == len(delivorder)"
   ]
  },
  {
   "cell_type": "markdown",
   "metadata": {},
   "source": [
    "##### delivorder_item"
   ]
  },
  {
   "cell_type": "code",
   "execution_count": 39,
   "metadata": {},
   "outputs": [
    {
     "data": {
      "text/plain": [
       "doi_id            False\n",
       "doi_do_id         False\n",
       "doi_soi_id        False\n",
       "doi_qty_kirim     False\n",
       "doi_qty_terima    False\n",
       "ket               False\n",
       "dtype: bool"
      ]
     },
     "execution_count": 39,
     "metadata": {},
     "output_type": "execute_result"
    }
   ],
   "source": [
    "delivorder_item.nunique() == len(delivorder_item)"
   ]
  },
  {
   "cell_type": "markdown",
   "metadata": {},
   "source": [
    "# Connect to PostgreSQL"
   ]
  },
  {
   "cell_type": "code",
   "execution_count": 47,
   "metadata": {},
   "outputs": [],
   "source": [
    "host=\"157.230.240.246\"\n",
    "database=\"learn_psycopg2\"\n",
    "user=\"iykra_trainee\"\n",
    "password=\"passwordiykra\""
   ]
  },
  {
   "cell_type": "code",
   "execution_count": 56,
   "metadata": {},
   "outputs": [],
   "source": [
    "#conn.close()\n",
    "conn = psycopg2.connect(host=host,database=database, user=user, password=password, port='5432')\n",
    "cur = conn.cursor()"
   ]
  },
  {
   "cell_type": "code",
   "execution_count": null,
   "metadata": {},
   "outputs": [],
   "source": [
    "cur.execute(\"\"\"\n",
    "SELECT table_schema,table_name\n",
    "FROM information_schema.tables\n",
    "ORDER BY table_schema,table_name;\"\"\")\n",
    "cur.fetchall()"
   ]
  },
  {
   "cell_type": "markdown",
   "metadata": {},
   "source": [
    "# Create Tables"
   ]
  },
  {
   "cell_type": "code",
   "execution_count": null,
   "metadata": {},
   "outputs": [],
   "source": [
    "def create_tables(table_name_in_sql, conn, cur):\n",
    "    commands = (\n",
    "        \"\"\"\n",
    "        CREATE TABLE %s (\n",
    "            \n",
    "        )\n",
    "        \"\"\"\n",
    "    )"
   ]
  },
  {
   "cell_type": "code",
   "execution_count": 60,
   "metadata": {},
   "outputs": [
    {
     "data": {
      "text/html": [
       "<div>\n",
       "<style scoped>\n",
       "    .dataframe tbody tr th:only-of-type {\n",
       "        vertical-align: middle;\n",
       "    }\n",
       "\n",
       "    .dataframe tbody tr th {\n",
       "        vertical-align: top;\n",
       "    }\n",
       "\n",
       "    .dataframe thead th {\n",
       "        text-align: right;\n",
       "    }\n",
       "</style>\n",
       "<table border=\"1\" class=\"dataframe\">\n",
       "  <thead>\n",
       "    <tr style=\"text-align: right;\">\n",
       "      <th></th>\n",
       "      <th>no</th>\n",
       "      <th>mutu</th>\n",
       "      <th>spesifikasi</th>\n",
       "      <th>slump</th>\n",
       "      <th>spek_tambahan</th>\n",
       "    </tr>\n",
       "  </thead>\n",
       "  <tbody>\n",
       "    <tr>\n",
       "      <th>0</th>\n",
       "      <td>1</td>\n",
       "      <td>K-100</td>\n",
       "      <td>FA / NFA</td>\n",
       "      <td>10 - 18</td>\n",
       "      <td>NaN</td>\n",
       "    </tr>\n",
       "  </tbody>\n",
       "</table>\n",
       "</div>"
      ],
      "text/plain": [
       "   no   mutu spesifikasi    slump spek_tambahan\n",
       "0   1  K-100    FA / NFA  10 - 18           NaN"
      ]
     },
     "execution_count": 60,
     "metadata": {},
     "output_type": "execute_result"
    }
   ],
   "source": [
    "produk.head(1)"
   ]
  },
  {
   "cell_type": "code",
   "execution_count": 33,
   "metadata": {},
   "outputs": [],
   "source": [
    "def create_tables(conn,cur):\n",
    "    \"\"\" create tables in the PostgreSQL database\"\"\"\n",
    "    commands = (\n",
    "        \"\"\"\n",
    "        CREATE TABLE campaign_malik (\n",
    "            campaign VARCHAR(255),\n",
    "            state VARCHAR(255),\n",
    "            type VARCHAR(255),\n",
    "            currency VARCHAR(255),\n",
    "            clicks INT,\n",
    "            impressions INT,\n",
    "            ctr INT,\n",
    "            avg_cpc FLOAT,\n",
    "            cost FLOAT,\n",
    "            conversions FLOAT,\n",
    "            view_through_conv INT,\n",
    "            cost_per_conv FLOAT,\n",
    "            conv_rate FLOAT,\n",
    "            PRIMARY KEY (campaign)\n",
    "        )\n",
    "        \"\"\",\n",
    "        \"\"\"\n",
    "        CREATE TABLE campaign_details_malik (\n",
    "            campaign VARCHAR(255),\n",
    "            state VARCHAR(255),\n",
    "            type VARCHAR(255),\n",
    "            subtype VARCHAR(255),\n",
    "            labels VARCHAR(255),\n",
    "            bid_strategy VARCHAR(255),\n",
    "            bid_strategy_type VARCHAR(255),\n",
    "            sitelinks_active INT,\n",
    "            sitelinks_disapproved INT,\n",
    "            phone_active INT,\n",
    "            phone_disapproved INT,\n",
    "            apps_active INT,\n",
    "            apps_disapproved INT,\n",
    "            apps_level VARCHAR(255),\n",
    "            desktop_bid_adj VARCHAR(255),\n",
    "            mobile_bid_adj VARCHAR(255),\n",
    "            tablet_bid_adj VARCHAR(255),\n",
    "            currency VARCHAR(255),\n",
    "            clicks INT,\n",
    "            impressions INT,\n",
    "            ctr INT,\n",
    "            avg_cpc FLOAT,\n",
    "            cost FLOAT,\n",
    "            impr_abs_top FLOAT,\n",
    "            impr_top FLOAT,\n",
    "            conversions FLOAT,\n",
    "            view_through_conv INT,\n",
    "            cost_per_conv FLOAT,\n",
    "            conv_rate FLOAT,\n",
    "            PRIMARY KEY (campaign),\n",
    "            FOREIGN KEY (campaign)\n",
    "                REFERENCES campaign_malik (campaign)\n",
    "                ON UPDATE CASCADE ON DELETE CASCADE\n",
    "        )\n",
    "        \"\"\",\n",
    "        \"\"\"\n",
    "        CREATE TABLE delivorder_malik (\n",
    "            do_id INT,\n",
    "            do_tgl VARCHAR(255),\n",
    "            do_org_id INT,\n",
    "            do_so_id INT,\n",
    "            do_tm_id FLOAT,\n",
    "            do_nomor VARCHAR(255),\n",
    "            do_driver_id FLOAT,\n",
    "            do_status_verifikasi INT,\n",
    "            do_is_invoice INT,\n",
    "            do_is_tolak INT,\n",
    "            do_tolak_ket VARCHAR(255),\n",
    "            do_tgl_tolak VARCHAR(255),\n",
    "            do_jam_berangkat VARCHAR(255),\n",
    "            do_ket VARCHAR(255),\n",
    "            do_bag_pengiriman_id VARCHAR(255),\n",
    "            do_createtime VARCHAR(255),\n",
    "            do_tgl_terima VARCHAR(255),\n",
    "            do_is_jurnal INT,\n",
    "            do_jam_terima VARCHAR(255),\n",
    "            do_jam_datang_diproyek VARCHAR(255),\n",
    "            do_jam_bongkar VARCHAR(255),\n",
    "            do_tgl_datang_diproyek VARCHAR(255),\n",
    "            do_tgl_bongkar VARCHAR(255),\n",
    "            do_is_invoice_plant_utama INT,\n",
    "            do_stat_id FLOAT,\n",
    "            do_tgl_pulang VARCHAR(255),\n",
    "            do_jam_pulang VARCHAR(255),\n",
    "            do_jarak_km VARCHAR(255),\n",
    "            do_ba_penolakan VARCHAR(255),\n",
    "            do_pembuat_penolakan VARCHAR(255),\n",
    "            do_penyebab_penolakan VARCHAR(255),\n",
    "            do_penyetuju_penolakan VARCHAR(255),\n",
    "            do_tld_id VARCHAR(255),\n",
    "            do_hari_ba_penolakan VARCHAR(255),\n",
    "            do_tgl_ba_penolakan VARCHAR(255),\n",
    "            do_barcode VARCHAR(255),\n",
    "            do_alasan_berkas_belum_terima VARCHAR(255),\n",
    "            do_is_berkas_diterima FLOAT,\n",
    "            do_tgl_berkas_diterima VARCHAR(255),\n",
    "            do_tempat_cor VARCHAR(255),\n",
    "            do_lokasi_terima VARCHAR(255)\n",
    "        )\n",
    "        \"\"\",\n",
    "        \"\"\"\n",
    "        CREATE TABLE delivorder_item_malik (\n",
    "            doi_id INT,\n",
    "            doi_do_id INT,\n",
    "            doi_soi_id INT,\n",
    "            doi_qty_kirim FLOAT,\n",
    "            doi_qty_terima FLOAT,\n",
    "            ket VARCHAR(255)\n",
    "        )\n",
    "        \"\"\",\n",
    "        \"\"\"\n",
    "        CREATE TABLE distance_malik (\n",
    "            from_location VARCHAR(255),\n",
    "            currency VARCHAR(255),\n",
    "            clicks INT,\n",
    "            impressions INT,\n",
    "            ctr FLOAT,\n",
    "            avg_cpc FLOAT,\n",
    "            cost FLOAT,\n",
    "            conversions FLOAT,\n",
    "            view_through_conv INT,\n",
    "            cost_per_conv FLOAT,\n",
    "            conv_rate INT\n",
    "        )\n",
    "        \"\"\",\n",
    "        \"\"\"\n",
    "        CREATE TABLE geographic_malik (\n",
    "            country_territory VARCHAR(255),\n",
    "            region VARCHAR(255),\n",
    "            metro_area VARCHAR(255),\n",
    "            city VARCHAR(255),\n",
    "            most_targeted_location VARCHAR(255),\n",
    "            location_type VARCHAR(255),\n",
    "            currency VARCHAR(255),\n",
    "            clicks INT,\n",
    "            impressions INT,\n",
    "            ctr FLOAT,\n",
    "            avg_cpc FLOAT,\n",
    "            cost FLOAT,\n",
    "            impr_abs_top FLOAT,\n",
    "            impr_top FLOAT,\n",
    "            conversions FLOAT,\n",
    "            view_through_conv INT,\n",
    "            cost_per_conv FLOAT,\n",
    "            conv_rate FLOAT\n",
    "        )\n",
    "        \"\"\",\n",
    "        \"\"\"\n",
    "        CREATE TABLE plants_malik (\n",
    "            plant VARCHAR(255),\n",
    "            batching_tipe VARCHAR(255),\n",
    "            batching_jml INT,\n",
    "            batching_kapasitas INT,\n",
    "            status VARCHAR(255),\n",
    "            jml_truk FLOAT,\n",
    "            PRIMARY KEY (plant)\n",
    "        )\n",
    "        \"\"\",\n",
    "        \"\"\"\n",
    "        CREATE TABLE produk_malik (\n",
    "            no INT,\n",
    "            mutu VARCHAR(255),\n",
    "            spesifikasi VARCHAR(255),\n",
    "            slump VARCHAR(255),\n",
    "            spek_tambahan VARCHAR(255),\n",
    "            PRIMARY KEY (no)\n",
    "        )\n",
    "        \"\"\",\n",
    "        \"\"\"\n",
    "        CREATE TABLE sales_order_malik (\n",
    "            tanggal_pemesanan TIMESTAMP,\n",
    "            nomor_kontrak_retail VARCHAR(255),\n",
    "            pelanggan VARCHAR(255),\n",
    "            jenis VARCHAR(255),\n",
    "            nama_proyek VARCHAR(255),\n",
    "            product VARCHAR(255),\n",
    "            area VARCHAR(255),\n",
    "            nilai INT,\n",
    "            status VARCHAR(255),\n",
    "            PRIMARY KEY (nomor_kontrak_retail)\n",
    "        )\n",
    "        \"\"\",\n",
    "        \"\"\"\n",
    "        CREATE TABLE search_keyword_malik (\n",
    "            keyword VARCHAR(255),\n",
    "            keyword_status VARCHAR(255),\n",
    "            keyword_match_type VARCHAR(255),\n",
    "            campaign VARCHAR(255),\n",
    "            ad_group VARCHAR(255),\n",
    "            keyword_max_cpc INT,\n",
    "            currency VARCHAR(255),\n",
    "            clicks INT,\n",
    "            impressions INT,\n",
    "            ctr FLOAT,\n",
    "            avg_cpc FLOAT,\n",
    "            cost INT,\n",
    "            impr_abs_top FLOAT,\n",
    "            impr_top FLOAT,\n",
    "            conversions FLOAT,\n",
    "            view_through_conv INT,\n",
    "            cost_conv FLOAT,\n",
    "            conv_rate FLOAT,\n",
    "            avg_cpm FLOAT\n",
    "        )\n",
    "        \"\"\",\n",
    "        \"\"\"\n",
    "        CREATE TABLE user_location_malik (\n",
    "            country VARCHAR(255),\n",
    "            region VARCHAR(255),\n",
    "            metro_area VARCHAR(255),\n",
    "            city VARCHAR(255),\n",
    "            most_targeted_location VARCHAR(255),\n",
    "            location_type VARCHAR(255),\n",
    "            currency VARCHAR(255),\n",
    "            clicks INT,\n",
    "            impressions INT,\n",
    "            ctr FLOAT,\n",
    "            avg_cpc FLOAT,\n",
    "            cost FLOAT,\n",
    "            impr_abs_top FLOAT,\n",
    "            impr_top FLOAT,\n",
    "            conversions FLOAT,\n",
    "            view_through_conv INT,\n",
    "            cost_conv FLOAT,\n",
    "            conv_rate FLOAT\n",
    "        )\n",
    "        \"\"\"\n",
    "    )\n",
    "    for command in commands:\n",
    "        cur.execute(command)\n",
    "        conn.commit()\n",
    "    cur.close()"
   ]
  },
  {
   "cell_type": "code",
   "execution_count": 36,
   "metadata": {},
   "outputs": [],
   "source": [
    "create_tables(conn,cur)"
   ]
  },
  {
   "cell_type": "markdown",
   "metadata": {},
   "source": [
    "# Insert Values to Table"
   ]
  },
  {
   "cell_type": "code",
   "execution_count": 1,
   "metadata": {},
   "outputs": [],
   "source": [
    "def insert_to(table_name_in_python, table_name_in_sql, conn, cur):\n",
    "    # list COLUMNS\n",
    "    list_columns = list(table_name_in_python.columns)\n",
    "    \n",
    "    # the VALUE to be inserted\n",
    "    value = []\n",
    "    table_as_str = table_name_in_python.astype(str)\n",
    "    for i in range(len(table_as_str)):\n",
    "        value.append(str(tuple(table_as_str.iloc[i].to_list())))\n",
    "    value = \",\".join(value)\n",
    "    \n",
    "    sql = \"INSERT INTO %s(%s) VALUES %s\" % (table_name_in_sql, \", \".join(col for col in list_columns), value)\n",
    "    try:\n",
    "        # execute the INSERT statement\n",
    "        cur.execute(sql, (table_name_in_sql,))\n",
    "        # commit the changes to the database\n",
    "        conn.commit()\n",
    "        # close communication with the database\n",
    "    except (Exception, psycopg2.DatabaseError) as error:\n",
    "        print(error)"
   ]
  },
  {
   "cell_type": "code",
   "execution_count": 38,
   "metadata": {},
   "outputs": [],
   "source": [
    "cur = conn.cursor()"
   ]
  },
  {
   "cell_type": "code",
   "execution_count": 9,
   "metadata": {},
   "outputs": [
    {
     "data": {
      "text/plain": [
       "'no, mutu, spesifikasi, slump, spek_tambahan'"
      ]
     },
     "execution_count": 9,
     "metadata": {},
     "output_type": "execute_result"
    }
   ],
   "source": [
    "', '.join(produk.columns)"
   ]
  },
  {
   "cell_type": "code",
   "execution_count": 10,
   "metadata": {},
   "outputs": [
    {
     "data": {
      "text/plain": [
       "['no', 'mutu', 'spesifikasi', 'slump', 'spek_tambahan']"
      ]
     },
     "execution_count": 10,
     "metadata": {},
     "output_type": "execute_result"
    }
   ],
   "source": [
    "list_columns = list(produk.columns)\n",
    "list_columns"
   ]
  },
  {
   "cell_type": "code",
   "execution_count": 13,
   "metadata": {},
   "outputs": [],
   "source": [
    "value = []\n",
    "table_as_str = produk.iloc[:2].astype(str)\n",
    "for i in range(len(table_as_str)):\n",
    "    value.append(str(tuple(table_as_str.iloc[i].to_list())))\n",
    "value = \",\".join(value)"
   ]
  },
  {
   "cell_type": "code",
   "execution_count": 23,
   "metadata": {
    "scrolled": true
   },
   "outputs": [
    {
     "data": {
      "text/plain": [
       "\"('1', 'K-100', 'FA / NFA', '10 - 18', 'nan'),('2', 'K-125', 'FA / NFA', '10 - 18', 'nan')\""
      ]
     },
     "execution_count": 23,
     "metadata": {},
     "output_type": "execute_result"
    }
   ],
   "source": [
    "\",\".join([str(tuple(table_as_str.iloc[0].to_list())), str(tuple(table_as_str.iloc[1].to_list()))])"
   ]
  },
  {
   "cell_type": "code",
   "execution_count": null,
   "metadata": {},
   "outputs": [],
   "source": []
  },
  {
   "cell_type": "code",
   "execution_count": 14,
   "metadata": {},
   "outputs": [
    {
     "data": {
      "text/plain": [
       "\"('1', 'K-100', 'FA / NFA', '10 - 18', 'nan'),('2', 'K-125', 'FA / NFA', '10 - 18', 'nan')\""
      ]
     },
     "execution_count": 14,
     "metadata": {},
     "output_type": "execute_result"
    }
   ],
   "source": [
    "value"
   ]
  },
  {
   "cell_type": "code",
   "execution_count": null,
   "metadata": {},
   "outputs": [],
   "source": [
    "sql = \"INSERT INTO produk(no, mutu, spesifikasi, slump, spek_tambahan) VALUES ('1', 'K-100', 'FA / NFA', '10 - 18', 'nan'),(),\" "
   ]
  },
  {
   "cell_type": "code",
   "execution_count": 33,
   "metadata": {},
   "outputs": [],
   "source": [
    "for i in range(len(geographic)):\n",
    "    if geographic['conv_rate'].isnull()[i] == True:\n",
    "        print(i)\n",
    "        break"
   ]
  },
  {
   "cell_type": "code",
   "execution_count": 58,
   "metadata": {},
   "outputs": [],
   "source": [
    "value = \"'Indonesia', 'Jakarta', '--', 'Jakarta', 'South Jakarta', 'Location of interest', 'IDR', '536', '25960', '2.06', '249.89', '133941.43', '0.0', '0.0', '314.0', '0', '424.48', 'nan'\""
   ]
  },
  {
   "cell_type": "code",
   "execution_count": 59,
   "metadata": {},
   "outputs": [],
   "source": [
    "sql = \"INSERT INTO %s(%s) VALUES (%s)\" % ('geographic_malik', \", \".join(geographic.columns), value)\n",
    "try:\n",
    "        # execute the INSERT statement\n",
    "    cur.execute(sql, ('geographic_malik',))\n",
    "        # commit the changes to the database\n",
    "    conn.commit()\n",
    "        # close communication with the database\n",
    "except (Exception, psycopg2.DatabaseError) as error:\n",
    "    print(error)"
   ]
  },
  {
   "cell_type": "code",
   "execution_count": null,
   "metadata": {},
   "outputs": [],
   "source": []
  },
  {
   "cell_type": "code",
   "execution_count": null,
   "metadata": {},
   "outputs": [],
   "source": []
  },
  {
   "cell_type": "code",
   "execution_count": null,
   "metadata": {},
   "outputs": [],
   "source": []
  },
  {
   "cell_type": "code",
   "execution_count": null,
   "metadata": {},
   "outputs": [],
   "source": []
  },
  {
   "cell_type": "code",
   "execution_count": 39,
   "metadata": {},
   "outputs": [],
   "source": [
    "insert_to(campaign, 'campaign_malik', conn, cur)"
   ]
  },
  {
   "cell_type": "code",
   "execution_count": 40,
   "metadata": {},
   "outputs": [],
   "source": [
    "insert_to(campaign_details, 'campaign_details_malik', conn, cur)"
   ]
  },
  {
   "cell_type": "code",
   "execution_count": 41,
   "metadata": {},
   "outputs": [],
   "source": [
    "insert_to(distance, 'distance_malik', conn, cur)"
   ]
  },
  {
   "cell_type": "code",
   "execution_count": 42,
   "metadata": {},
   "outputs": [],
   "source": [
    "insert_to(geographic, 'geographic_malik', conn, cur)"
   ]
  },
  {
   "cell_type": "code",
   "execution_count": 43,
   "metadata": {},
   "outputs": [],
   "source": [
    "insert_to(plants, 'plants_malik', conn, cur)"
   ]
  },
  {
   "cell_type": "code",
   "execution_count": 44,
   "metadata": {},
   "outputs": [],
   "source": [
    "insert_to(produk, 'produk_malik', conn, cur)"
   ]
  },
  {
   "cell_type": "code",
   "execution_count": 45,
   "metadata": {},
   "outputs": [],
   "source": [
    "insert_to(search_keyword, 'search_keyword_malik', conn, cur)"
   ]
  },
  {
   "cell_type": "code",
   "execution_count": 46,
   "metadata": {},
   "outputs": [],
   "source": [
    "insert_to(user_location, 'user_location_malik', conn, cur)"
   ]
  },
  {
   "cell_type": "code",
   "execution_count": 47,
   "metadata": {},
   "outputs": [],
   "source": [
    "insert_to(sales_order, 'sales_order_malik', conn, cur)"
   ]
  },
  {
   "cell_type": "code",
   "execution_count": 6,
   "metadata": {},
   "outputs": [],
   "source": [
    "insert_to(delivorder, 'delivorder_malik', conn, cur)"
   ]
  },
  {
   "cell_type": "code",
   "execution_count": 7,
   "metadata": {},
   "outputs": [],
   "source": [
    "insert_to(delivorder_item, 'delivorder_item_malik', conn, cur)"
   ]
  },
  {
   "cell_type": "code",
   "execution_count": null,
   "metadata": {},
   "outputs": [],
   "source": []
  }
 ],
 "metadata": {
  "kernelspec": {
   "display_name": "Python 3",
   "language": "python",
   "name": "python3"
  },
  "language_info": {
   "codemirror_mode": {
    "name": "ipython",
    "version": 3
   },
   "file_extension": ".py",
   "mimetype": "text/x-python",
   "name": "python",
   "nbconvert_exporter": "python",
   "pygments_lexer": "ipython3",
   "version": "3.7.3"
  }
 },
 "nbformat": 4,
 "nbformat_minor": 2
}
